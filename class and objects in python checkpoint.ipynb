{
 "cells": [
  {
   "cell_type": "code",
   "execution_count": null,
   "id": "b2e9566f-0918-4c5a-ae4c-6d0b5fc28e9a",
   "metadata": {},
   "outputs": [],
   "source": [
    "# Write a Python class named Point3D defined by x, y, and z. Define a method that returns (x, y ,z). \n",
    "# This tells Python to represent this object in the following format: (x, y, z). \n",
    "# Then create a variable named my_point containing a new instance of Point3D with x=1, y=2, and z=3 and print it."
   ]
  },
  {
   "cell_type": "code",
   "execution_count": 1,
   "id": "02f9f976-ea75-4b01-8d94-eeab177fe688",
   "metadata": {},
   "outputs": [
    {
     "name": "stdout",
     "output_type": "stream",
     "text": [
      "(1, 2, 3)\n"
     ]
    }
   ],
   "source": [
    "class Point3D:\n",
    "    def __init__(self, x, y, z):\n",
    "        self.x = x\n",
    "        self.y = y\n",
    "        self.z = z\n",
    "\n",
    "    def __repr__(self):\n",
    "        return f\"({self.x}, {self.y}, {self.z})\"\n",
    "\n",
    "# Creating an instance of Point3D\n",
    "my_point = Point3D(1, 2, 3)\n",
    "\n",
    "# Printing the instance\n",
    "print(my_point)  # Output: (1, 2, 3)\n"
   ]
  },
  {
   "cell_type": "code",
   "execution_count": 4,
   "id": "cf2138d8-76d7-47f9-8eaa-55d9c909e2b2",
   "metadata": {},
   "outputs": [],
   "source": [
    "# Write a Python class named Rectangle constructed by a length and width. Define two methods, area and perimeter, which will compute the area and the perimeter of the rectangle. \n",
    "# Then create a variable named my_rectangle containing a new instance of Rectangle with width=3 and length = 4 and compute both area and perimeter ( the area is expected to be 3*4=12 and perimeter 2*(3+4)=14)."
   ]
  },
  {
   "cell_type": "code",
   "execution_count": 2,
   "id": "7bbf945d-6fe4-4b23-8d00-5f9466d9e0d3",
   "metadata": {},
   "outputs": [
    {
     "name": "stdout",
     "output_type": "stream",
     "text": [
      "Area: 12\n",
      "Perimeter: 14\n"
     ]
    }
   ],
   "source": [
    "class Rectangle:\n",
    "    def __init__(self, length, width):\n",
    "        self.length = length\n",
    "        self.width = width\n",
    "\n",
    "    def area(self):\n",
    "        return self.length * self.width\n",
    "\n",
    "    def perimeter(self):\n",
    "        return 2 * (self.length + self.width)\n",
    "\n",
    "# Creating an instance of Rectangle\n",
    "my_rectangle = Rectangle(4, 3)\n",
    "\n",
    "# Computing the area and perimeter\n",
    "area = my_rectangle.area()\n",
    "perimeter = my_rectangle.perimeter()\n",
    "\n",
    "# Printing the results\n",
    "print(f\"Area: {area}\")          # Output: Area: 12\n",
    "print(f\"Perimeter: {perimeter}\")  # Output: Perimeter: 14\n"
   ]
  },
  {
   "cell_type": "code",
   "execution_count": 6,
   "id": "9f181f7d-ef1e-4b91-8c4f-29c6fd7958ae",
   "metadata": {},
   "outputs": [],
   "source": [
    "# Write a Python  class named Circle constructed by its center O and radius r. \n",
    "# Define two methods, area and perimeter, which will compute the area and the perimeter of the circle\n",
    "# and is Inside() method which allows you to test whether a point A(x, y) belongs to the circle C(O, r) or not."
   ]
  },
  {
   "cell_type": "code",
   "execution_count": 7,
   "id": "b4978904-4700-4b1b-8a01-2247f7988b01",
   "metadata": {},
   "outputs": [
    {
     "name": "stdout",
     "output_type": "stream",
     "text": [
      "Area: 78.53981633974483\n",
      "Perimeter: 31.41592653589793\n",
      "Point (3, 4) is inside the circle: True\n",
      "Point (6, 8) is inside the circle: False\n"
     ]
    }
   ],
   "source": [
    "import math\n",
    "\n",
    "class Circle:\n",
    "    def __init__(self, center, radius):\n",
    "        self.center = center\n",
    "        self.radius = radius\n",
    "\n",
    "    def area(self):\n",
    "        return math.pi * (self.radius ** 2)\n",
    "\n",
    "    def perimeter(self):\n",
    "        return 2 * math.pi * self.radius\n",
    "\n",
    "    def is_inside(self, x, y):\n",
    "        distance = math.sqrt((x - self.center[0]) ** 2 + (y - self.center[1]) ** 2)\n",
    "        return distance <= self.radius\n",
    "\n",
    "# Example usage\n",
    "# Creating an instance of Circle\n",
    "center = (0, 0)  # Center at origin\n",
    "radius = 5\n",
    "my_circle = Circle(center, radius)\n",
    "\n",
    "# Computing the area and perimeter\n",
    "area = my_circle.area()\n",
    "perimeter = my_circle.perimeter()\n",
    "\n",
    "# Printing the results\n",
    "print(f\"Area: {area}\")          # Output: Area: 78.53981633974483\n",
    "print(f\"Perimeter: {perimeter}\")  # Output: Perimeter: 31.41592653589793\n",
    "\n",
    "# Checking if a point is inside the circle\n",
    "point = (3, 4)\n",
    "is_point_inside = my_circle.is_inside(point[0], point[1])\n",
    "print(f\"Point {point} is inside the circle: {is_point_inside}\")  # Output: Point (3, 4) is inside the circle: True\n",
    "\n",
    "point = (6, 8)\n",
    "is_point_inside = my_circle.is_inside(point[0], point[1])\n",
    "print(f\"Point {point} is inside the circle: {is_point_inside}\")  # Output: Point (6, 8) is inside the circle: False\n"
   ]
  },
  {
   "cell_type": "code",
   "execution_count": 8,
   "id": "697f6a48-4e3e-45d2-aa24-ae7851f7d5c5",
   "metadata": {},
   "outputs": [],
   "source": [
    "# Suppose we want to model a bank account with support for deposit and withdraw operations. \n",
    "# Let’s create a Python class named Bank defined by its balance. \n",
    "# Define two methods, deposit and withdraw, to compute the new amount of each operation."
   ]
  },
  {
   "cell_type": "code",
   "execution_count": 11,
   "id": "0de79e93-ea6f-454e-b081-b8f6e644682a",
   "metadata": {},
   "outputs": [
    {
     "name": "stdout",
     "output_type": "stream",
     "text": [
      "New balance after deposit: 10534\n",
      "New balance after withdraw: 9855\n"
     ]
    }
   ],
   "source": [
    "class Bank:\n",
    "    def __init__(self, balance=0):\n",
    "        self.balance = balance\n",
    "\n",
    "    def deposit(self, amount):\n",
    "        if amount > 0:\n",
    "            self.balance += amount\n",
    "            return self.balance\n",
    "        else:\n",
    "            return \"Deposit amount must be positive\"\n",
    "\n",
    "    def withdraw(self, amount):\n",
    "        if 0 < amount <= self.balance:\n",
    "            self.balance -= amount\n",
    "            return self.balance\n",
    "        elif amount > self.balance:\n",
    "            return \"Insufficient funds\"\n",
    "        else:\n",
    "            return \"Withdrawal amount must be positive\"\n",
    "\n",
    "# Example usage\n",
    "# Creating an instance of Bank\n",
    "my_account = Bank(10000)  # Starting with an initial balance of 100\n",
    "\n",
    "# Depositing money\n",
    "new_balance_after_deposit = my_account.deposit(534)\n",
    "print(f\"New balance after deposit: {new_balance_after_deposit}\")  # Output: New balance after deposit: 150\n",
    "\n",
    "# Withdrawing money\n",
    "new_balance_after_withdraw = my_account.withdraw(679)\n",
    "print(f\"New balance after withdraw: {new_balance_after_withdraw}\")  # Output: New balance after withdraw: 120\n",
    "\n"
   ]
  }
 ],
 "metadata": {
  "kernelspec": {
   "display_name": "Python 3 (ipykernel)",
   "language": "python",
   "name": "python3"
  },
  "language_info": {
   "codemirror_mode": {
    "name": "ipython",
    "version": 3
   },
   "file_extension": ".py",
   "mimetype": "text/x-python",
   "name": "python",
   "nbconvert_exporter": "python",
   "pygments_lexer": "ipython3",
   "version": "3.11.7"
  }
 },
 "nbformat": 4,
 "nbformat_minor": 5
}
